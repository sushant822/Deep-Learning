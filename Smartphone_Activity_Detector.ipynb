{
 "cells": [
  {
   "cell_type": "code",
   "execution_count": 1,
   "metadata": {},
   "outputs": [],
   "source": [
    "# Set the seed value for the notebook so the results are reproducible\n",
    "from numpy.random import seed\n",
    "seed(1)"
   ]
  },
  {
   "cell_type": "markdown",
   "metadata": {},
   "source": [
    "# Deep Learning Smartphone Activity Detector\n",
    "\n",
    "http://archive.ics.uci.edu/ml/datasets/Smartphone-Based+Recognition+of+Human+Activities+and+Postural+Transitions"
   ]
  },
  {
   "cell_type": "markdown",
   "metadata": {},
   "source": [
    "# Objective\n",
    "\n",
    "Predict human activity using smartphone sensor data"
   ]
  },
  {
   "cell_type": "markdown",
   "metadata": {},
   "source": [
    "# Data Pre-Processing\n",
    "Note: This dataset has already been scaled"
   ]
  },
  {
   "cell_type": "code",
   "execution_count": 2,
   "metadata": {},
   "outputs": [],
   "source": [
    "import os\n",
    "import tensorflow as tf\n",
    "from tensorflow.keras.models import Sequential\n",
    "from tensorflow.keras.utils import to_categorical\n",
    "from tensorflow.keras.layers import Dense"
   ]
  },
  {
   "cell_type": "code",
   "execution_count": 3,
   "metadata": {},
   "outputs": [],
   "source": [
    "import numpy as np\n",
    "import pandas as pd"
   ]
  },
  {
   "cell_type": "code",
   "execution_count": 4,
   "metadata": {},
   "outputs": [],
   "source": [
    "# Training Data Paths\n",
    "X_training_data = os.path.join(\"Resources\", \"Train\", \"X_train.txt\")\n",
    "y_training_data = os.path.join(\"Resources\", \"Train\", \"y_train.txt\")"
   ]
  },
  {
   "cell_type": "code",
   "execution_count": 5,
   "metadata": {},
   "outputs": [],
   "source": [
    "# Testing Data Paths\n",
    "X_testing_data = os.path.join(\"Resources\", \"Test\", \"X_test.txt\")\n",
    "y_testing_data = os.path.join(\"Resources\", \"Test\", \"y_test.txt\")"
   ]
  },
  {
   "cell_type": "code",
   "execution_count": 6,
   "metadata": {
    "scrolled": true
   },
   "outputs": [
    {
     "data": {
      "text/html": [
       "<div>\n",
       "<style scoped>\n",
       "    .dataframe tbody tr th:only-of-type {\n",
       "        vertical-align: middle;\n",
       "    }\n",
       "\n",
       "    .dataframe tbody tr th {\n",
       "        vertical-align: top;\n",
       "    }\n",
       "\n",
       "    .dataframe thead th {\n",
       "        text-align: right;\n",
       "    }\n",
       "</style>\n",
       "<table border=\"1\" class=\"dataframe\">\n",
       "  <thead>\n",
       "    <tr style=\"text-align: right;\">\n",
       "      <th></th>\n",
       "      <th>0</th>\n",
       "      <th>1</th>\n",
       "      <th>2</th>\n",
       "      <th>3</th>\n",
       "      <th>4</th>\n",
       "      <th>5</th>\n",
       "      <th>6</th>\n",
       "      <th>7</th>\n",
       "      <th>8</th>\n",
       "      <th>9</th>\n",
       "      <th>...</th>\n",
       "      <th>551</th>\n",
       "      <th>552</th>\n",
       "      <th>553</th>\n",
       "      <th>554</th>\n",
       "      <th>555</th>\n",
       "      <th>556</th>\n",
       "      <th>557</th>\n",
       "      <th>558</th>\n",
       "      <th>559</th>\n",
       "      <th>560</th>\n",
       "    </tr>\n",
       "  </thead>\n",
       "  <tbody>\n",
       "    <tr>\n",
       "      <th>0</th>\n",
       "      <td>0.039480</td>\n",
       "      <td>-0.002131</td>\n",
       "      <td>-0.029067</td>\n",
       "      <td>-0.998348</td>\n",
       "      <td>-0.982945</td>\n",
       "      <td>-0.971273</td>\n",
       "      <td>-0.998702</td>\n",
       "      <td>-0.983315</td>\n",
       "      <td>-0.974000</td>\n",
       "      <td>-0.802537</td>\n",
       "      <td>...</td>\n",
       "      <td>0.202804</td>\n",
       "      <td>-0.603199</td>\n",
       "      <td>-0.860677</td>\n",
       "      <td>0.053477</td>\n",
       "      <td>-0.007435</td>\n",
       "      <td>-0.732626</td>\n",
       "      <td>0.703511</td>\n",
       "      <td>-0.845092</td>\n",
       "      <td>0.180261</td>\n",
       "      <td>-0.047436</td>\n",
       "    </tr>\n",
       "    <tr>\n",
       "      <th>1</th>\n",
       "      <td>0.039978</td>\n",
       "      <td>-0.005153</td>\n",
       "      <td>-0.022651</td>\n",
       "      <td>-0.995482</td>\n",
       "      <td>-0.977314</td>\n",
       "      <td>-0.984760</td>\n",
       "      <td>-0.996415</td>\n",
       "      <td>-0.975835</td>\n",
       "      <td>-0.985973</td>\n",
       "      <td>-0.798477</td>\n",
       "      <td>...</td>\n",
       "      <td>0.440079</td>\n",
       "      <td>-0.404427</td>\n",
       "      <td>-0.761847</td>\n",
       "      <td>-0.118559</td>\n",
       "      <td>0.177899</td>\n",
       "      <td>0.100699</td>\n",
       "      <td>0.808529</td>\n",
       "      <td>-0.849230</td>\n",
       "      <td>0.180610</td>\n",
       "      <td>-0.042271</td>\n",
       "    </tr>\n",
       "    <tr>\n",
       "      <th>2</th>\n",
       "      <td>0.039785</td>\n",
       "      <td>-0.011809</td>\n",
       "      <td>-0.028916</td>\n",
       "      <td>-0.996194</td>\n",
       "      <td>-0.988569</td>\n",
       "      <td>-0.993256</td>\n",
       "      <td>-0.996994</td>\n",
       "      <td>-0.988526</td>\n",
       "      <td>-0.993135</td>\n",
       "      <td>-0.798477</td>\n",
       "      <td>...</td>\n",
       "      <td>0.430891</td>\n",
       "      <td>-0.138373</td>\n",
       "      <td>-0.491604</td>\n",
       "      <td>-0.036788</td>\n",
       "      <td>-0.012892</td>\n",
       "      <td>0.640011</td>\n",
       "      <td>-0.485366</td>\n",
       "      <td>-0.848947</td>\n",
       "      <td>0.181907</td>\n",
       "      <td>-0.040826</td>\n",
       "    </tr>\n",
       "    <tr>\n",
       "      <th>3</th>\n",
       "      <td>0.038758</td>\n",
       "      <td>-0.002289</td>\n",
       "      <td>-0.023863</td>\n",
       "      <td>-0.998241</td>\n",
       "      <td>-0.986774</td>\n",
       "      <td>-0.993115</td>\n",
       "      <td>-0.998216</td>\n",
       "      <td>-0.986479</td>\n",
       "      <td>-0.993825</td>\n",
       "      <td>-0.801982</td>\n",
       "      <td>...</td>\n",
       "      <td>0.137735</td>\n",
       "      <td>-0.366214</td>\n",
       "      <td>-0.702490</td>\n",
       "      <td>0.123320</td>\n",
       "      <td>0.122542</td>\n",
       "      <td>0.693578</td>\n",
       "      <td>-0.615971</td>\n",
       "      <td>-0.848164</td>\n",
       "      <td>0.185124</td>\n",
       "      <td>-0.037080</td>\n",
       "    </tr>\n",
       "    <tr>\n",
       "      <th>4</th>\n",
       "      <td>0.038988</td>\n",
       "      <td>0.004109</td>\n",
       "      <td>-0.017340</td>\n",
       "      <td>-0.997438</td>\n",
       "      <td>-0.993485</td>\n",
       "      <td>-0.996692</td>\n",
       "      <td>-0.997522</td>\n",
       "      <td>-0.993494</td>\n",
       "      <td>-0.996916</td>\n",
       "      <td>-0.801982</td>\n",
       "      <td>...</td>\n",
       "      <td>0.074999</td>\n",
       "      <td>-0.554902</td>\n",
       "      <td>-0.844224</td>\n",
       "      <td>0.082632</td>\n",
       "      <td>-0.143439</td>\n",
       "      <td>0.275041</td>\n",
       "      <td>-0.368224</td>\n",
       "      <td>-0.849927</td>\n",
       "      <td>0.184795</td>\n",
       "      <td>-0.035326</td>\n",
       "    </tr>\n",
       "  </tbody>\n",
       "</table>\n",
       "<p>5 rows × 561 columns</p>\n",
       "</div>"
      ],
      "text/plain": [
       "        0         1         2         3         4         5         6    \\\n",
       "0  0.039480 -0.002131 -0.029067 -0.998348 -0.982945 -0.971273 -0.998702   \n",
       "1  0.039978 -0.005153 -0.022651 -0.995482 -0.977314 -0.984760 -0.996415   \n",
       "2  0.039785 -0.011809 -0.028916 -0.996194 -0.988569 -0.993256 -0.996994   \n",
       "3  0.038758 -0.002289 -0.023863 -0.998241 -0.986774 -0.993115 -0.998216   \n",
       "4  0.038988  0.004109 -0.017340 -0.997438 -0.993485 -0.996692 -0.997522   \n",
       "\n",
       "        7         8         9    ...       551       552       553       554  \\\n",
       "0 -0.983315 -0.974000 -0.802537  ...  0.202804 -0.603199 -0.860677  0.053477   \n",
       "1 -0.975835 -0.985973 -0.798477  ...  0.440079 -0.404427 -0.761847 -0.118559   \n",
       "2 -0.988526 -0.993135 -0.798477  ...  0.430891 -0.138373 -0.491604 -0.036788   \n",
       "3 -0.986479 -0.993825 -0.801982  ...  0.137735 -0.366214 -0.702490  0.123320   \n",
       "4 -0.993494 -0.996916 -0.801982  ...  0.074999 -0.554902 -0.844224  0.082632   \n",
       "\n",
       "        555       556       557       558       559       560  \n",
       "0 -0.007435 -0.732626  0.703511 -0.845092  0.180261 -0.047436  \n",
       "1  0.177899  0.100699  0.808529 -0.849230  0.180610 -0.042271  \n",
       "2 -0.012892  0.640011 -0.485366 -0.848947  0.181907 -0.040826  \n",
       "3  0.122542  0.693578 -0.615971 -0.848164  0.185124 -0.037080  \n",
       "4 -0.143439  0.275041 -0.368224 -0.849927  0.184795 -0.035326  \n",
       "\n",
       "[5 rows x 561 columns]"
      ]
     },
     "execution_count": 6,
     "metadata": {},
     "output_type": "execute_result"
    }
   ],
   "source": [
    "# Read the training data into a dataframe\n",
    "X_train_df = pd.read_csv(\n",
    "    X_training_data, delimiter=\" \", skiprows=1, header=None)\n",
    "X_train_df.head()"
   ]
  },
  {
   "cell_type": "code",
   "execution_count": 7,
   "metadata": {},
   "outputs": [],
   "source": [
    "# Convert the dataframe to a numpy array for Keras\n",
    "X_train = X_train_df.values"
   ]
  },
  {
   "cell_type": "code",
   "execution_count": 8,
   "metadata": {},
   "outputs": [
    {
     "data": {
      "text/plain": [
       "array([[0., 0., 0., 0., 0., 1., 0., 0., 0., 0., 0., 0., 0.],\n",
       "       [0., 0., 0., 0., 0., 1., 0., 0., 0., 0., 0., 0., 0.],\n",
       "       [0., 0., 0., 0., 0., 1., 0., 0., 0., 0., 0., 0., 0.],\n",
       "       [0., 0., 0., 0., 0., 1., 0., 0., 0., 0., 0., 0., 0.],\n",
       "       [0., 0., 0., 0., 0., 1., 0., 0., 0., 0., 0., 0., 0.],\n",
       "       [0., 0., 0., 0., 0., 1., 0., 0., 0., 0., 0., 0., 0.],\n",
       "       [0., 0., 0., 0., 0., 1., 0., 0., 0., 0., 0., 0., 0.],\n",
       "       [0., 0., 0., 0., 0., 1., 0., 0., 0., 0., 0., 0., 0.],\n",
       "       [0., 0., 0., 0., 0., 1., 0., 0., 0., 0., 0., 0., 0.],\n",
       "       [0., 0., 0., 0., 0., 1., 0., 0., 0., 0., 0., 0., 0.]],\n",
       "      dtype=float32)"
      ]
     },
     "execution_count": 8,
     "metadata": {},
     "output_type": "execute_result"
    }
   ],
   "source": [
    "# Read in the training labels as a dataframe\n",
    "y_train_df = pd.read_csv(y_training_data)\n",
    "\n",
    "# One-hot encode the integer labels\n",
    "# 1 WALKING\n",
    "# 2 WALKING_UPSTAIRS\n",
    "# 3 WALKING_DOWNSTAIRS\n",
    "# 4 SITTING\n",
    "# 5 STANDING\n",
    "# 6 LAYING\n",
    "# 7 STAND_TO_SIT\n",
    "# 8 SIT_TO_STAND\n",
    "# 9 SIT_TO_LIE\n",
    "# 10 LIE_TO_SIT\n",
    "# 11 STAND_TO_LIE\n",
    "# 12 LIE_TO_STAND\n",
    "\n",
    "y_train = to_categorical(y_train_df)\n",
    "y_train[:10]"
   ]
  },
  {
   "cell_type": "code",
   "execution_count": 9,
   "metadata": {},
   "outputs": [
    {
     "data": {
      "text/plain": [
       "(3161, 561)"
      ]
     },
     "execution_count": 9,
     "metadata": {},
     "output_type": "execute_result"
    }
   ],
   "source": [
    "# Read the testing data\n",
    "X_test_df = pd.read_csv(X_testing_data, delimiter=\" \", skiprows=1, header=None)\n",
    "X_test = X_test_df.values\n",
    "X_test.shape"
   ]
  },
  {
   "cell_type": "code",
   "execution_count": 10,
   "metadata": {},
   "outputs": [
    {
     "data": {
      "text/plain": [
       "(3161, 13)"
      ]
     },
     "execution_count": 10,
     "metadata": {},
     "output_type": "execute_result"
    }
   ],
   "source": [
    "# Read the testing labels\n",
    "y_test_df = pd.read_csv(y_testing_data)\n",
    "# One-hot encode the integer labels\n",
    "y_test = to_categorical(y_test_df)\n",
    "y_test.shape"
   ]
  },
  {
   "cell_type": "markdown",
   "metadata": {},
   "source": [
    "# Build a Deep Neural Network"
   ]
  },
  {
   "cell_type": "code",
   "execution_count": 11,
   "metadata": {},
   "outputs": [],
   "source": [
    "# Create an empty sequential model\n",
    "model = Sequential()"
   ]
  },
  {
   "cell_type": "code",
   "execution_count": 12,
   "metadata": {},
   "outputs": [],
   "source": [
    "# Add the first layer where the input dimensions are the 561 columns of the training data\n",
    "model.add(Dense(100, activation='relu', input_dim=X_train.shape[1]))"
   ]
  },
  {
   "cell_type": "code",
   "execution_count": 13,
   "metadata": {},
   "outputs": [],
   "source": [
    "# Add a second hidden layer\n",
    "model.add(Dense(100, activation='relu'))"
   ]
  },
  {
   "cell_type": "code",
   "execution_count": 14,
   "metadata": {},
   "outputs": [
    {
     "data": {
      "text/plain": [
       "(7766, 13)"
      ]
     },
     "execution_count": 14,
     "metadata": {},
     "output_type": "execute_result"
    }
   ],
   "source": [
    "# The output layer has 13 columns that are one-hot encoded\n",
    "y_train.shape"
   ]
  },
  {
   "cell_type": "code",
   "execution_count": 15,
   "metadata": {},
   "outputs": [],
   "source": [
    "# Add output layer\n",
    "model.add(Dense(y_train.shape[1], activation=\"softmax\"))"
   ]
  },
  {
   "cell_type": "code",
   "execution_count": 16,
   "metadata": {},
   "outputs": [],
   "source": [
    "# Compile the model using categorical_crossentropy for the loss function, the adam optimizer,\n",
    "# and add accuracy to the training metrics\n",
    "model.compile(loss=\"categorical_crossentropy\",\n",
    "              optimizer=\"adam\", metrics=['accuracy'])"
   ]
  },
  {
   "cell_type": "code",
   "execution_count": 17,
   "metadata": {},
   "outputs": [
    {
     "name": "stdout",
     "output_type": "stream",
     "text": [
      "Epoch 1/100\n",
      "243/243 - 0s - loss: 0.5647 - accuracy: 0.7986\n",
      "Epoch 2/100\n",
      "243/243 - 0s - loss: 0.2261 - accuracy: 0.9131\n",
      "Epoch 3/100\n",
      "243/243 - 0s - loss: 0.1542 - accuracy: 0.9390\n",
      "Epoch 4/100\n",
      "243/243 - 0s - loss: 0.1198 - accuracy: 0.9538\n",
      "Epoch 5/100\n",
      "243/243 - 0s - loss: 0.1189 - accuracy: 0.9547\n",
      "Epoch 6/100\n",
      "243/243 - 0s - loss: 0.0987 - accuracy: 0.9602\n",
      "Epoch 7/100\n",
      "243/243 - 0s - loss: 0.0945 - accuracy: 0.9627\n",
      "Epoch 8/100\n",
      "243/243 - 0s - loss: 0.0832 - accuracy: 0.9682\n",
      "Epoch 9/100\n",
      "243/243 - 0s - loss: 0.0924 - accuracy: 0.9638\n",
      "Epoch 10/100\n",
      "243/243 - 0s - loss: 0.0737 - accuracy: 0.9723\n",
      "Epoch 11/100\n",
      "243/243 - 0s - loss: 0.0687 - accuracy: 0.9758\n",
      "Epoch 12/100\n",
      "243/243 - 0s - loss: 0.0729 - accuracy: 0.9721\n",
      "Epoch 13/100\n",
      "243/243 - 0s - loss: 0.0681 - accuracy: 0.9742\n",
      "Epoch 14/100\n",
      "243/243 - 0s - loss: 0.0642 - accuracy: 0.9746\n",
      "Epoch 15/100\n",
      "243/243 - 0s - loss: 0.0714 - accuracy: 0.9723\n",
      "Epoch 16/100\n",
      "243/243 - 0s - loss: 0.0562 - accuracy: 0.9799\n",
      "Epoch 17/100\n",
      "243/243 - 0s - loss: 0.0540 - accuracy: 0.9798\n",
      "Epoch 18/100\n",
      "243/243 - 0s - loss: 0.0518 - accuracy: 0.9793\n",
      "Epoch 19/100\n",
      "243/243 - 0s - loss: 0.0656 - accuracy: 0.9733\n",
      "Epoch 20/100\n",
      "243/243 - 0s - loss: 0.0659 - accuracy: 0.9754\n",
      "Epoch 21/100\n",
      "243/243 - 0s - loss: 0.0559 - accuracy: 0.9775\n",
      "Epoch 22/100\n",
      "243/243 - 0s - loss: 0.0527 - accuracy: 0.9794\n",
      "Epoch 23/100\n",
      "243/243 - 0s - loss: 0.0454 - accuracy: 0.9825\n",
      "Epoch 24/100\n",
      "243/243 - 0s - loss: 0.0454 - accuracy: 0.9840\n",
      "Epoch 25/100\n",
      "243/243 - 0s - loss: 0.0431 - accuracy: 0.9835\n",
      "Epoch 26/100\n",
      "243/243 - 0s - loss: 0.0385 - accuracy: 0.9864\n",
      "Epoch 27/100\n",
      "243/243 - 0s - loss: 0.0358 - accuracy: 0.9852\n",
      "Epoch 28/100\n",
      "243/243 - 0s - loss: 0.0470 - accuracy: 0.9833\n",
      "Epoch 29/100\n",
      "243/243 - 1s - loss: 0.0503 - accuracy: 0.9809\n",
      "Epoch 30/100\n",
      "243/243 - 1s - loss: 0.0393 - accuracy: 0.9851\n",
      "Epoch 31/100\n",
      "243/243 - 1s - loss: 0.0349 - accuracy: 0.9867\n",
      "Epoch 32/100\n",
      "243/243 - 1s - loss: 0.0352 - accuracy: 0.9869\n",
      "Epoch 33/100\n",
      "243/243 - 1s - loss: 0.0303 - accuracy: 0.9875\n",
      "Epoch 34/100\n",
      "243/243 - 1s - loss: 0.0273 - accuracy: 0.9900\n",
      "Epoch 35/100\n",
      "243/243 - 1s - loss: 0.0312 - accuracy: 0.9883\n",
      "Epoch 36/100\n",
      "243/243 - 1s - loss: 0.0392 - accuracy: 0.9842\n",
      "Epoch 37/100\n",
      "243/243 - 1s - loss: 0.0488 - accuracy: 0.9804\n",
      "Epoch 38/100\n",
      "243/243 - 1s - loss: 0.0228 - accuracy: 0.9916\n",
      "Epoch 39/100\n",
      "243/243 - 1s - loss: 0.0347 - accuracy: 0.9864\n",
      "Epoch 40/100\n",
      "243/243 - 1s - loss: 0.0265 - accuracy: 0.9912\n",
      "Epoch 41/100\n",
      "243/243 - 1s - loss: 0.0406 - accuracy: 0.9845\n",
      "Epoch 42/100\n",
      "243/243 - 1s - loss: 0.0319 - accuracy: 0.9887\n",
      "Epoch 43/100\n",
      "243/243 - 1s - loss: 0.0365 - accuracy: 0.9853\n",
      "Epoch 44/100\n",
      "243/243 - 1s - loss: 0.0264 - accuracy: 0.9903\n",
      "Epoch 45/100\n",
      "243/243 - 1s - loss: 0.0209 - accuracy: 0.9927\n",
      "Epoch 46/100\n",
      "243/243 - 1s - loss: 0.0205 - accuracy: 0.9933\n",
      "Epoch 47/100\n",
      "243/243 - 2s - loss: 0.0234 - accuracy: 0.9914\n",
      "Epoch 48/100\n",
      "243/243 - 1s - loss: 0.0351 - accuracy: 0.9879\n",
      "Epoch 49/100\n",
      "243/243 - 1s - loss: 0.0186 - accuracy: 0.9921\n",
      "Epoch 50/100\n",
      "243/243 - 1s - loss: 0.0341 - accuracy: 0.9865\n",
      "Epoch 51/100\n",
      "243/243 - 1s - loss: 0.0176 - accuracy: 0.9930\n",
      "Epoch 52/100\n",
      "243/243 - 1s - loss: 0.0208 - accuracy: 0.9923\n",
      "Epoch 53/100\n",
      "243/243 - 1s - loss: 0.0224 - accuracy: 0.9909\n",
      "Epoch 54/100\n",
      "243/243 - 1s - loss: 0.0417 - accuracy: 0.9864\n",
      "Epoch 55/100\n",
      "243/243 - 1s - loss: 0.0307 - accuracy: 0.9898\n",
      "Epoch 56/100\n",
      "243/243 - 1s - loss: 0.0293 - accuracy: 0.9902\n",
      "Epoch 57/100\n",
      "243/243 - 1s - loss: 0.0168 - accuracy: 0.9928\n",
      "Epoch 58/100\n",
      "243/243 - 1s - loss: 0.0154 - accuracy: 0.9946\n",
      "Epoch 59/100\n",
      "243/243 - 1s - loss: 0.0145 - accuracy: 0.9950\n",
      "Epoch 60/100\n",
      "243/243 - 1s - loss: 0.0141 - accuracy: 0.9942\n",
      "Epoch 61/100\n",
      "243/243 - 1s - loss: 0.0227 - accuracy: 0.9910\n",
      "Epoch 62/100\n",
      "243/243 - 1s - loss: 0.0209 - accuracy: 0.9920\n",
      "Epoch 63/100\n",
      "243/243 - 1s - loss: 0.0120 - accuracy: 0.9958\n",
      "Epoch 64/100\n",
      "243/243 - 1s - loss: 0.0336 - accuracy: 0.9879\n",
      "Epoch 65/100\n",
      "243/243 - 1s - loss: 0.0200 - accuracy: 0.9933\n",
      "Epoch 66/100\n",
      "243/243 - 1s - loss: 0.0131 - accuracy: 0.9943\n",
      "Epoch 67/100\n",
      "243/243 - 1s - loss: 0.0293 - accuracy: 0.9907\n",
      "Epoch 68/100\n",
      "243/243 - 0s - loss: 0.0077 - accuracy: 0.9978\n",
      "Epoch 69/100\n",
      "243/243 - 1s - loss: 0.0147 - accuracy: 0.9950\n",
      "Epoch 70/100\n",
      "243/243 - 1s - loss: 0.0097 - accuracy: 0.9965\n",
      "Epoch 71/100\n",
      "243/243 - 0s - loss: 0.0134 - accuracy: 0.9964\n",
      "Epoch 72/100\n",
      "243/243 - 1s - loss: 0.0318 - accuracy: 0.9873\n",
      "Epoch 73/100\n",
      "243/243 - 1s - loss: 0.0166 - accuracy: 0.9946\n",
      "Epoch 74/100\n",
      "243/243 - 1s - loss: 0.0074 - accuracy: 0.9974\n",
      "Epoch 75/100\n",
      "243/243 - 1s - loss: 0.0186 - accuracy: 0.9945\n",
      "Epoch 76/100\n",
      "243/243 - 1s - loss: 0.0451 - accuracy: 0.9842\n",
      "Epoch 77/100\n",
      "243/243 - 1s - loss: 0.0197 - accuracy: 0.9923\n",
      "Epoch 78/100\n",
      "243/243 - 1s - loss: 0.0108 - accuracy: 0.9961\n",
      "Epoch 79/100\n",
      "243/243 - 0s - loss: 0.0155 - accuracy: 0.9938\n",
      "Epoch 80/100\n",
      "243/243 - 0s - loss: 0.0283 - accuracy: 0.9912\n",
      "Epoch 81/100\n",
      "243/243 - 0s - loss: 0.0123 - accuracy: 0.9952\n",
      "Epoch 82/100\n",
      "243/243 - 0s - loss: 0.0066 - accuracy: 0.9974\n",
      "Epoch 83/100\n",
      "243/243 - 0s - loss: 0.0090 - accuracy: 0.9970\n",
      "Epoch 84/100\n",
      "243/243 - 0s - loss: 0.0128 - accuracy: 0.9954\n",
      "Epoch 85/100\n",
      "243/243 - 0s - loss: 0.0305 - accuracy: 0.9906\n",
      "Epoch 86/100\n",
      "243/243 - 0s - loss: 0.0120 - accuracy: 0.9958\n",
      "Epoch 87/100\n",
      "243/243 - 0s - loss: 0.0143 - accuracy: 0.9951\n",
      "Epoch 88/100\n",
      "243/243 - 0s - loss: 0.0233 - accuracy: 0.9916\n",
      "Epoch 89/100\n",
      "243/243 - 0s - loss: 0.0245 - accuracy: 0.9923\n",
      "Epoch 90/100\n",
      "243/243 - 0s - loss: 0.0099 - accuracy: 0.9963\n",
      "Epoch 91/100\n",
      "243/243 - 0s - loss: 0.0144 - accuracy: 0.9955\n",
      "Epoch 92/100\n",
      "243/243 - 0s - loss: 0.0028 - accuracy: 0.9991\n",
      "Epoch 93/100\n",
      "243/243 - 0s - loss: 0.0193 - accuracy: 0.9947\n",
      "Epoch 94/100\n",
      "243/243 - 0s - loss: 0.0089 - accuracy: 0.9976\n",
      "Epoch 95/100\n",
      "243/243 - 0s - loss: 0.0139 - accuracy: 0.9943\n",
      "Epoch 96/100\n",
      "243/243 - 0s - loss: 0.0112 - accuracy: 0.9967\n",
      "Epoch 97/100\n",
      "243/243 - 0s - loss: 0.0154 - accuracy: 0.9939\n",
      "Epoch 98/100\n",
      "243/243 - 0s - loss: 0.0043 - accuracy: 0.9991\n",
      "Epoch 99/100\n",
      "243/243 - 0s - loss: 0.0088 - accuracy: 0.9967\n",
      "Epoch 100/100\n",
      "243/243 - 0s - loss: 0.0033 - accuracy: 0.9991\n"
     ]
    },
    {
     "data": {
      "text/plain": [
       "<tensorflow.python.keras.callbacks.History at 0x216fa1e6308>"
      ]
     },
     "execution_count": 17,
     "metadata": {},
     "output_type": "execute_result"
    }
   ],
   "source": [
    "# Use the training data to fit (train) the model\n",
    "model.fit(\n",
    "    X_train,\n",
    "    y_train,\n",
    "    epochs=100,\n",
    "    shuffle=True,\n",
    "    verbose=2\n",
    ")"
   ]
  },
  {
   "cell_type": "markdown",
   "metadata": {},
   "source": [
    "# Save the Trained Model"
   ]
  },
  {
   "cell_type": "code",
   "execution_count": 18,
   "metadata": {},
   "outputs": [],
   "source": [
    "# Save the model\n",
    "model.save(\"smartphone_trained.h5\")"
   ]
  },
  {
   "cell_type": "markdown",
   "metadata": {},
   "source": [
    "# Evaluate the Model"
   ]
  },
  {
   "cell_type": "code",
   "execution_count": 19,
   "metadata": {},
   "outputs": [],
   "source": [
    "# Load the model\n",
    "from tensorflow.keras.models import load_model\n",
    "model = load_model(\"smartphone_trained.h5\")"
   ]
  },
  {
   "cell_type": "code",
   "execution_count": 20,
   "metadata": {},
   "outputs": [
    {
     "name": "stdout",
     "output_type": "stream",
     "text": [
      "99/99 - 0s - loss: 0.3456 - accuracy: 0.9453\n",
      "Loss: 0.3455754220485687, Accuracy: 0.9452704787254333\n"
     ]
    }
   ],
   "source": [
    "# Evaluate the model using the training data\n",
    "model_loss, model_accuracy = model.evaluate(X_test, y_test, verbose=2)\n",
    "print(f\"Loss: {model_loss}, Accuracy: {model_accuracy}\")"
   ]
  },
  {
   "cell_type": "code",
   "execution_count": 21,
   "metadata": {},
   "outputs": [
    {
     "data": {
      "text/plain": [
       "(1, 561)"
      ]
     },
     "execution_count": 21,
     "metadata": {},
     "output_type": "execute_result"
    }
   ],
   "source": [
    "# Grab just one data point to test with\n",
    "test = np.expand_dims(X_test[0], axis=0)\n",
    "test.shape"
   ]
  },
  {
   "cell_type": "code",
   "execution_count": 22,
   "metadata": {},
   "outputs": [
    {
     "name": "stdout",
     "output_type": "stream",
     "text": [
      "WARNING:tensorflow:From <ipython-input-22-c2bb14c68125>:2: Sequential.predict_classes (from tensorflow.python.keras.engine.sequential) is deprecated and will be removed after 2021-01-01.\n",
      "Instructions for updating:\n",
      "Please use instead:* `np.argmax(model.predict(x), axis=-1)`,   if your model does multi-class classification   (e.g. if it uses a `softmax` last-layer activation).* `(model.predict(x) > 0.5).astype(\"int32\")`,   if your model does binary classification   (e.g. if it uses a `sigmoid` last-layer activation).\n",
      "Predicted class: [5]\n"
     ]
    }
   ],
   "source": [
    "# Make a prediction. The result should be 5 - STANDING\n",
    "print(f\"Predicted class: {model.predict_classes(test)}\")"
   ]
  }
 ],
 "metadata": {
  "anaconda-cloud": {},
  "kernelspec": {
   "display_name": "Python 3",
   "language": "python",
   "name": "python3"
  },
  "language_info": {
   "codemirror_mode": {
    "name": "ipython",
    "version": 3
   },
   "file_extension": ".py",
   "mimetype": "text/x-python",
   "name": "python",
   "nbconvert_exporter": "python",
   "pygments_lexer": "ipython3",
   "version": "3.7.6"
  },
  "varInspector": {
   "cols": {
    "lenName": 16,
    "lenType": 16,
    "lenVar": 40
   },
   "kernels_config": {
    "python": {
     "delete_cmd_postfix": "",
     "delete_cmd_prefix": "del ",
     "library": "var_list.py",
     "varRefreshCmd": "print(var_dic_list())"
    },
    "r": {
     "delete_cmd_postfix": ") ",
     "delete_cmd_prefix": "rm(",
     "library": "var_list.r",
     "varRefreshCmd": "cat(var_dic_list()) "
    }
   },
   "types_to_exclude": [
    "module",
    "function",
    "builtin_function_or_method",
    "instance",
    "_Feature"
   ],
   "window_display": false
  }
 },
 "nbformat": 4,
 "nbformat_minor": 2
}
